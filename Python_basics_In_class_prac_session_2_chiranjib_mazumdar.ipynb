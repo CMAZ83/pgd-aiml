{
  "nbformat": 4,
  "nbformat_minor": 0,
  "metadata": {
    "colab": {
      "name": "Python basics - In class prac session 2 - chiranjib mazumdar.ipynb",
      "provenance": []
    },
    "kernelspec": {
      "name": "python3",
      "display_name": "Python 3"
    },
    "language_info": {
      "name": "python"
    }
  },
  "cells": [
    {
      "cell_type": "code",
      "metadata": {
        "colab": {
          "base_uri": "https://localhost:8080/"
        },
        "id": "0RKHYtl2Fx9J",
        "outputId": "1c182a2e-fd5e-40d8-b374-5d76b9bb60a0"
      },
      "source": [
        "#Check if number input is even or odd\n",
        "number=int(input(\"Enter any number: \"))\n",
        "if number%2 == 0:\n",
        "  print(\"This is an even number.\")\n",
        "else:\n",
        "  print(\"This is an odd number.\")  \n"
      ],
      "execution_count": 2,
      "outputs": [
        {
          "output_type": "stream",
          "name": "stdout",
          "text": [
            "Enter any number: 57\n",
            "This is an odd number.\n"
          ]
        }
      ]
    },
    {
      "cell_type": "code",
      "metadata": {
        "colab": {
          "base_uri": "https://localhost:8080/"
        },
        "id": "VioRqkKrn2i_",
        "outputId": "430d52eb-7bda-45a9-cccb-2286e653f17c"
      },
      "source": [
        "#Check which number is greater\n",
        "n1=int(input(\"Enter first number: \"))\n",
        "n2=int(input(\"Enter second number: \"))\n",
        "if n1>n2:\n",
        "  print(\"The first number is greater than second number.\")\n",
        "else:\n",
        "  print(\"The second number is greater than first number.\")  "
      ],
      "execution_count": 3,
      "outputs": [
        {
          "output_type": "stream",
          "name": "stdout",
          "text": [
            "Enter first number: 79\n",
            "Enter second number: 85\n",
            "The second number is greater than first number.\n"
          ]
        }
      ]
    },
    {
      "cell_type": "code",
      "metadata": {
        "colab": {
          "base_uri": "https://localhost:8080/"
        },
        "id": "xCK_Xb7DooKo",
        "outputId": "f24d1876-c2fe-4ad6-d037-bcf7bd3bf4fa"
      },
      "source": [
        "#A shopkeeper gives a discount of 10% if the cost of purchased quantity is more than 1000. Considering one unit will cost 100, calculate total cost\n",
        "\n",
        "qty = int(input(\"Enter quantity to be purchased: \"))\n",
        "cost = qty * 100\n",
        "if cost > 1000:\n",
        "  payable_cost = 0.9 * cost\n",
        "else:\n",
        "  payable_cost = cost\n",
        "print(f\"The total cost to be paid is Rs. {payable_cost}.\")    \n"
      ],
      "execution_count": 4,
      "outputs": [
        {
          "output_type": "stream",
          "name": "stdout",
          "text": [
            "Enter quantity to be purchased: 95\n",
            "The total cost to be paid is Rs 8550.0.\n"
          ]
        }
      ]
    },
    {
      "cell_type": "code",
      "metadata": {
        "colab": {
          "base_uri": "https://localhost:8080/"
        },
        "id": "AxaBzO8Qpxlt",
        "outputId": "4565dcc4-b790-4d10-9c36-0e38d730ecc2"
      },
      "source": [
        "#grading system\n",
        "marks = float(input(\"Please enter marks obtained: \"))\n",
        "if marks<25:\n",
        "  grade = \"F\"\n",
        "elif marks<=45:\n",
        "  grade = \"E\"\n",
        "elif marks <= 50:\n",
        "  grade = \"D\"\n",
        "elif marks <= 60:\n",
        "  grade = \"C\"\n",
        "elif marks <= 80:\n",
        "  grade = \"B\"\n",
        "else:\n",
        "  grade = \"A\"\n",
        "\n",
        "print(f\"The grade obtained is: {grade}\")  "
      ],
      "execution_count": 11,
      "outputs": [
        {
          "output_type": "stream",
          "name": "stdout",
          "text": [
            "Please enter marks obtained: 99.5\n",
            "The grade obtained is: A\n"
          ]
        }
      ]
    },
    {
      "cell_type": "code",
      "metadata": {
        "id": "ynCTlJhDrOFL"
      },
      "source": [
        ""
      ],
      "execution_count": null,
      "outputs": []
    }
  ]
}