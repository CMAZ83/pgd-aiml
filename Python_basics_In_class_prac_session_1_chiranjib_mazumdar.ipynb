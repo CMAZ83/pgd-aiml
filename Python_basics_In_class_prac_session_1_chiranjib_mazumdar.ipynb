{
  "nbformat": 4,
  "nbformat_minor": 0,
  "metadata": {
    "colab": {
      "name": "Python basics - In class prac session 1 - chiranjib mazumdar.ipynb",
      "provenance": []
    },
    "kernelspec": {
      "name": "python3",
      "display_name": "Python 3"
    },
    "language_info": {
      "name": "python"
    }
  },
  "cells": [
    {
      "cell_type": "code",
      "metadata": {
        "colab": {
          "base_uri": "https://localhost:8080/"
        },
        "id": "0RKHYtl2Fx9J",
        "outputId": "8262111e-6db5-4131-d05c-57895fb0e71b"
      },
      "source": [
        "#Multiplication table of 10\n",
        "n=1\n",
        "while n<11:\n",
        "  print (f\"10 x {n} is:\", 10 * n)\n",
        "  n=n+1\n",
        "\n"
      ],
      "execution_count": 4,
      "outputs": [
        {
          "output_type": "stream",
          "name": "stdout",
          "text": [
            "10 x 1 is: 10\n",
            "10 x 2 is: 20\n",
            "10 x 3 is: 30\n",
            "10 x 4 is: 40\n",
            "10 x 5 is: 50\n",
            "10 x 6 is: 60\n",
            "10 x 7 is: 70\n",
            "10 x 8 is: 80\n",
            "10 x 9 is: 90\n",
            "10 x 10 is: 100\n"
          ]
        }
      ]
    },
    {
      "cell_type": "code",
      "metadata": {
        "colab": {
          "base_uri": "https://localhost:8080/"
        },
        "id": "YtipkwhfH27Y",
        "outputId": "07bfc42f-f862-42ec-bafe-cc89829ec6f2"
      },
      "source": [
        "#Swap two variables of users choice\n",
        "\n",
        "v1= input(\"Enter first variable: \")\n",
        "v2= input(\"Enter second variable: \")\n",
        "v3=v1\n",
        "v1=v2\n",
        "v2=v3\n",
        "print(f\"The swapped first variable is {v1} and the swapped second variable is {v2}.\")"
      ],
      "execution_count": 5,
      "outputs": [
        {
          "output_type": "stream",
          "name": "stdout",
          "text": [
            "Enter first variable: 3\n",
            "Enter second variable: 5\n",
            "The swapped first variable is 5 and the swapped second variable is 3.\n"
          ]
        }
      ]
    },
    {
      "cell_type": "code",
      "metadata": {
        "colab": {
          "base_uri": "https://localhost:8080/"
        },
        "id": "esk0GXyRKc7v",
        "outputId": "f63a1b5f-8767-4238-f68a-cf9f3f4aea07"
      },
      "source": [
        "#Swap two variables without using third variable \n",
        "\n",
        "v1= int(input(\"Enter first variable: \"))\n",
        "v2= int(input(\"Enter second variable: \"))\n",
        "\n",
        "print(f\"The swapped first variable is {(v1+v2-v1)} and the swapped second variable is {(v1+v2-v2)}.\")"
      ],
      "execution_count": 8,
      "outputs": [
        {
          "output_type": "stream",
          "name": "stdout",
          "text": [
            "Enter first variable: 3\n",
            "Enter second variable: 5\n",
            "The swapped first variable is 5 and the swapped second variable is 3.\n"
          ]
        }
      ]
    },
    {
      "cell_type": "code",
      "metadata": {
        "colab": {
          "base_uri": "https://localhost:8080/"
        },
        "id": "8faThBp3NVAY",
        "outputId": "4a11eb8b-8c3f-4e36-bd24-fbef91b28277"
      },
      "source": [
        "#Swap two variables without using third variable or addition/subtraction/multiplication/division\n",
        "\n",
        "v1= int(input(\"Enter first variable: \"))\n",
        "v2= int(input(\"Enter second variable: \"))\n",
        " \n",
        "\n",
        "print(f\"The swapped first variable is {(v1^v2)^v1} and the swapped second variable is {(v1^v2)^v2}.\")"
      ],
      "execution_count": 19,
      "outputs": [
        {
          "output_type": "stream",
          "name": "stdout",
          "text": [
            "Enter first variable: 5\n",
            "Enter second variable: 3\n",
            "The swapped first variable is 3 and the swapped second variable is 5.\n"
          ]
        }
      ]
    }
  ]
}